{
  "nbformat": 4,
  "nbformat_minor": 0,
  "metadata": {
    "colab": {
      "provenance": [],
      "authorship_tag": "ABX9TyOevYzENq50vqzCdvoy3+PX",
      "include_colab_link": true
    },
    "kernelspec": {
      "name": "python3",
      "display_name": "Python 3"
    },
    "language_info": {
      "name": "python"
    }
  },
  "cells": [
    {
      "cell_type": "markdown",
      "metadata": {
        "id": "view-in-github",
        "colab_type": "text"
      },
      "source": [
        "<a href=\"https://colab.research.google.com/github/Solenluna/RealPythonPractise/blob/main/Chapter5.ipynb\" target=\"_parent\"><img src=\"https://colab.research.google.com/assets/colab-badge.svg\" alt=\"Open In Colab\"/></a>"
      ]
    },
    {
      "cell_type": "code",
      "execution_count": null,
      "metadata": {
        "colab": {
          "base_uri": "https://localhost:8080/"
        },
        "id": "zGbnb1B_NDHw",
        "outputId": "70d3ee85-8351-4b10-8544-ffe8cf90056b"
      },
      "outputs": [
        {
          "output_type": "stream",
          "name": "stdout",
          "text": [
            "Enter password:hi\n",
            "The first letter is: H\n"
          ]
        }
      ],
      "source": [
        "user_input = input(\"Enter password:\")\n",
        "print(\"The first letter is:\",user_input[0].upper())"
      ]
    },
    {
      "cell_type": "code",
      "source": [
        "weight = 0.2\n",
        "animal = \"newt\"\n",
        "\n",
        "print(weight , \"is the weight of the\" , animal)\n",
        "\n",
        "print(\"{} kg is the weight of the {}\".format(weight, animal))\n",
        "print(\"{0} kg is the weight of the {1}\".format(weight,animal))\n",
        "print(\"{weight2} kg is the weight of the {animal2}\".format(weight2 = 0.2, animal2 = \"newt\"))"
      ],
      "metadata": {
        "colab": {
          "base_uri": "https://localhost:8080/"
        },
        "id": "r_iCAmZHP7Lg",
        "outputId": "0911d640-105d-45b7-e3b2-9bf7bcfd330d"
      },
      "execution_count": null,
      "outputs": [
        {
          "output_type": "stream",
          "name": "stdout",
          "text": [
            "0.2 is the weight of the newt\n",
            "0.2 kg is the weight of the newt\n",
            "0.2 kg is the weight of the newt\n",
            "0.2 kg is the weight of the newt\n"
          ]
        }
      ]
    },
    {
      "cell_type": "code",
      "source": [
        "print(\"AAA\".find(\"a\"))\n",
        "my_string = \"version 2.0\"\n",
        "my_float = 2.0\n",
        "print(my_string.find(str(my_float)))"
      ],
      "metadata": {
        "colab": {
          "base_uri": "https://localhost:8080/"
        },
        "id": "hxXKgNBuRtLi",
        "outputId": "d52cb7ae-ed4d-4943-80dd-7b0ff755e375"
      },
      "execution_count": null,
      "outputs": [
        {
          "output_type": "stream",
          "name": "stdout",
          "text": [
            "-1\n",
            "8\n"
          ]
        }
      ]
    },
    {
      "cell_type": "code",
      "source": [
        "my_input = input(\"Enter something\")\n",
        "my_input = my_input.replace(\"a\",\"4\")\n",
        "my_input = my_input.replace(\"b\",\"8\")\n",
        "my_input = my_input.replace(\"e\",\"3\")\n",
        "my_input = my_input.replace(\"l\",\"1\")\n",
        "my_input = my_input.replace(\"o\",\"0\")\n",
        "my_input = my_input.replace(\"s\",\"5\")\n",
        "my_input = my_input.replace(\"t\",\"7\")\n",
        "\n",
        "print(my_input)"
      ],
      "metadata": {
        "colab": {
          "base_uri": "https://localhost:8080/"
        },
        "id": "17MniapySkOj",
        "outputId": "01624f19-1b31-4893-8da1-4f4a76d66d39"
      },
      "execution_count": null,
      "outputs": [
        {
          "output_type": "stream",
          "name": "stdout",
          "text": [
            "Enter somethingi am teh leet haxor\n",
            "i 4m 73h 1337 h4x0r\n"
          ]
        }
      ]
    }
  ]
}