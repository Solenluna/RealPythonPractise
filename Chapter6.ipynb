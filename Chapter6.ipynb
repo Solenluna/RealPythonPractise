{
  "nbformat": 4,
  "nbformat_minor": 0,
  "metadata": {
    "colab": {
      "provenance": [],
      "authorship_tag": "ABX9TyM8mo7OK2LqODkaAbNDUlAK",
      "include_colab_link": true
    },
    "kernelspec": {
      "name": "python3",
      "display_name": "Python 3"
    },
    "language_info": {
      "name": "python"
    }
  },
  "cells": [
    {
      "cell_type": "markdown",
      "metadata": {
        "id": "view-in-github",
        "colab_type": "text"
      },
      "source": [
        "<a href=\"https://colab.research.google.com/github/Solenluna/RealPythonPractise/blob/main/Chapter6.ipynb\" target=\"_parent\"><img src=\"https://colab.research.google.com/assets/colab-badge.svg\" alt=\"Open In Colab\"/></a>"
      ]
    },
    {
      "cell_type": "code",
      "execution_count": 4,
      "metadata": {
        "colab": {
          "base_uri": "https://localhost:8080/"
        },
        "id": "VFrjF2tHz8yA",
        "outputId": "37a6439c-5b00-440b-ad09-d27c8e14fecd"
      },
      "outputs": [
        {
          "output_type": "stream",
          "name": "stdout",
          "text": [
            "3/5 =  0.6\n"
          ]
        }
      ],
      "source": [
        "print(\"3/5 = \",3/5)"
      ]
    },
    {
      "cell_type": "code",
      "source": [
        "#exponent\n",
        "base = int(input(\"Enter a base:\"))\n",
        "power = int(input(\"Enter an exponent:\"))\n",
        "print(base,\"to the power of\", power, \"=\",base**power)"
      ],
      "metadata": {
        "colab": {
          "base_uri": "https://localhost:8080/"
        },
        "id": "Z8ceTUqM0dFl",
        "outputId": "bd6690f1-c2ce-4fde-8afd-c7e9b095f7c2"
      },
      "execution_count": 7,
      "outputs": [
        {
          "output_type": "stream",
          "name": "stdout",
          "text": [
            "Enter a base:2\n",
            "Enter an exponent:3\n",
            "2 to the power of 3 = 8\n"
          ]
        }
      ]
    }
  ]
}