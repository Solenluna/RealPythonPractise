{
  "nbformat": 4,
  "nbformat_minor": 0,
  "metadata": {
    "colab": {
      "provenance": [],
      "authorship_tag": "ABX9TyM/WrhPLXHCKZHV9pSIQBZG",
      "include_colab_link": true
    },
    "kernelspec": {
      "name": "python3",
      "display_name": "Python 3"
    },
    "language_info": {
      "name": "python"
    }
  },
  "cells": [
    {
      "cell_type": "markdown",
      "metadata": {
        "id": "view-in-github",
        "colab_type": "text"
      },
      "source": [
        "<a href=\"https://colab.research.google.com/github/Solenluna/RealPythonPractise/blob/main/Chapter6.ipynb\" target=\"_parent\"><img src=\"https://colab.research.google.com/assets/colab-badge.svg\" alt=\"Open In Colab\"/></a>"
      ]
    },
    {
      "cell_type": "code",
      "execution_count": 4,
      "metadata": {
        "colab": {
          "base_uri": "https://localhost:8080/"
        },
        "id": "VFrjF2tHz8yA",
        "outputId": "37a6439c-5b00-440b-ad09-d27c8e14fecd"
      },
      "outputs": [
        {
          "output_type": "stream",
          "name": "stdout",
          "text": [
            "3/5 =  0.6\n"
          ]
        }
      ],
      "source": [
        "print(\"3/5 = \",3/5)"
      ]
    },
    {
      "cell_type": "code",
      "source": [
        "#exponent\n",
        "base = int(input(\"Enter a base:\"))\n",
        "power = int(input(\"Enter an exponent:\"))\n",
        "print(base,\"to the power of\", power, \"=\",base**power)"
      ],
      "metadata": {
        "colab": {
          "base_uri": "https://localhost:8080/"
        },
        "id": "Z8ceTUqM0dFl",
        "outputId": "bd6690f1-c2ce-4fde-8afd-c7e9b095f7c2"
      },
      "execution_count": 7,
      "outputs": [
        {
          "output_type": "stream",
          "name": "stdout",
          "text": [
            "Enter a base:2\n",
            "Enter an exponent:3\n",
            "2 to the power of 3 = 8\n"
          ]
        }
      ]
    },
    {
      "cell_type": "code",
      "source": [
        "#cube\n",
        "def cube(number):\n",
        "  \"\"\"takes a number and cubes it, returning the result\"\"\"\n",
        "  result = number * number\n",
        "  result = result * number\n",
        "  return result\n",
        "\n",
        "test = int(input(\"Enter a number:\"))\n",
        "cube(test)"
      ],
      "metadata": {
        "colab": {
          "base_uri": "https://localhost:8080/"
        },
        "id": "SvSF0f-H13F3",
        "outputId": "c3c27e77-fc54-401d-8629-cb84ab1447d8"
      },
      "execution_count": 12,
      "outputs": [
        {
          "name": "stdout",
          "output_type": "stream",
          "text": [
            "Enter a number:4\n"
          ]
        },
        {
          "output_type": "execute_result",
          "data": {
            "text/plain": [
              "64"
            ]
          },
          "metadata": {},
          "execution_count": 12
        }
      ]
    },
    {
      "cell_type": "code",
      "source": [
        "#multiply\n",
        "def multiply(num1,num2):\n",
        "  out = int(num1)*int(num2)\n",
        "  return out\n",
        "\n",
        "multiply(2,5)"
      ],
      "metadata": {
        "colab": {
          "base_uri": "https://localhost:8080/"
        },
        "id": "7jQ_07fc2qZe",
        "outputId": "8991f89f-91d6-4daf-d513-c5d3d31d336b"
      },
      "execution_count": 13,
      "outputs": [
        {
          "output_type": "execute_result",
          "data": {
            "text/plain": [
              "10"
            ]
          },
          "metadata": {},
          "execution_count": 13
        }
      ]
    },
    {
      "cell_type": "code",
      "source": [
        "#temperature\n",
        "def convertToFahr(inCel):\n",
        "  fahrTemp = (inCel * 9/5)+32\n",
        "  return fahrTemp\n",
        "\n",
        "def convertToCel(inFahr):\n",
        "  celTemp = (inFahr-32) * 5/9\n",
        "  return celTemp\n",
        "\n",
        "print(convertToFahr(37))\n",
        "print(convertToCel(72))"
      ],
      "metadata": {
        "colab": {
          "base_uri": "https://localhost:8080/"
        },
        "id": "WNGomx_B3GiA",
        "outputId": "6de237a0-99ee-4917-e9df-77491ec0dae8"
      },
      "execution_count": 15,
      "outputs": [
        {
          "output_type": "stream",
          "name": "stdout",
          "text": [
            "98.6\n",
            "22.22222222222222\n"
          ]
        }
      ]
    },
    {
      "cell_type": "code",
      "source": [
        "#loops\n",
        "for i in range(2,11):\n",
        "  print(i)"
      ],
      "metadata": {
        "colab": {
          "base_uri": "https://localhost:8080/"
        },
        "id": "A4O_1PN84iQc",
        "outputId": "762db049-64ad-4fd6-f799-b8ccb9cd8fd2"
      },
      "execution_count": 16,
      "outputs": [
        {
          "output_type": "stream",
          "name": "stdout",
          "text": [
            "2\n",
            "3\n",
            "4\n",
            "5\n",
            "6\n",
            "7\n",
            "8\n",
            "9\n",
            "10\n"
          ]
        }
      ]
    },
    {
      "cell_type": "code",
      "source": [
        "#whileLoop\n",
        "i = 2\n",
        "while (i < 11):\n",
        "  print(i)\n",
        "  i = i+1"
      ],
      "metadata": {
        "colab": {
          "base_uri": "https://localhost:8080/"
        },
        "id": "bxRPqyce4z6j",
        "outputId": "1d6104fc-2f57-485c-fc43-ff093eddcdce"
      },
      "execution_count": 18,
      "outputs": [
        {
          "output_type": "stream",
          "name": "stdout",
          "text": [
            "2\n",
            "3\n",
            "4\n",
            "5\n",
            "6\n",
            "7\n",
            "8\n",
            "9\n",
            "10\n"
          ]
        }
      ]
    },
    {
      "cell_type": "code",
      "source": [
        "#double\n",
        "def doubles(input):\n",
        "  i = 1\n",
        "  result = input\n",
        "  while(i<4):\n",
        "    result = result * 2\n",
        "    print(result)\n",
        "    i = i+1\n",
        "\n",
        "doubles(2)"
      ],
      "metadata": {
        "colab": {
          "base_uri": "https://localhost:8080/"
        },
        "id": "QcfLEjlN5E50",
        "outputId": "0b9d4427-3d0f-44e8-e4b6-a0c1dab9e6a7"
      },
      "execution_count": 21,
      "outputs": [
        {
          "output_type": "stream",
          "name": "stdout",
          "text": [
            "4\n",
            "8\n",
            "16\n"
          ]
        }
      ]
    },
    {
      "cell_type": "code",
      "source": [
        "#invest\n",
        "def invest(amount, rate, time):\n",
        "    print(\"Principal amount: £\",amount)\n",
        "    print(\"Annual rate of return:\",rate)\n",
        "    i = 1\n",
        "    total = amount\n",
        "    while(i<=time):\n",
        "      total =  total + (total*rate)\n",
        "      print(\"year\",i,\": £\",total)\n",
        "      i = i+1\n",
        "\n",
        "invest(100, .05, 8)"
      ],
      "metadata": {
        "colab": {
          "base_uri": "https://localhost:8080/"
        },
        "id": "z_djYBiD5zgh",
        "outputId": "3a110a43-ef64-4f55-d949-4642efbf5514"
      },
      "execution_count": 25,
      "outputs": [
        {
          "output_type": "stream",
          "name": "stdout",
          "text": [
            "Principal amount: £ 100\n",
            "Annual rate of return: 0.05\n",
            "year 1 : £ 105.0\n",
            "year 2 : £ 110.25\n",
            "year 3 : £ 115.7625\n",
            "year 4 : £ 121.550625\n",
            "year 5 : £ 127.62815624999999\n",
            "year 6 : £ 134.00956406249998\n",
            "year 7 : £ 140.71004226562496\n",
            "year 8 : £ 147.7455443789062\n"
          ]
        }
      ]
    }
  ]
}