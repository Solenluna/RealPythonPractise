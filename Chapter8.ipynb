{
  "nbformat": 4,
  "nbformat_minor": 0,
  "metadata": {
    "colab": {
      "provenance": [],
      "authorship_tag": "ABX9TyNRhYXhaavdRtntVQKax+MZ",
      "include_colab_link": true
    },
    "kernelspec": {
      "name": "python3",
      "display_name": "Python 3"
    },
    "language_info": {
      "name": "python"
    }
  },
  "cells": [
    {
      "cell_type": "markdown",
      "metadata": {
        "id": "view-in-github",
        "colab_type": "text"
      },
      "source": [
        "<a href=\"https://colab.research.google.com/github/Solenluna/RealPythonPractise/blob/main/Chapter8.ipynb\" target=\"_parent\"><img src=\"https://colab.research.google.com/assets/colab-badge.svg\" alt=\"Open In Colab\"/></a>"
      ]
    },
    {
      "cell_type": "code",
      "execution_count": null,
      "metadata": {
        "colab": {
          "base_uri": "https://localhost:8080/"
        },
        "id": "l5Yv1chu9vK7",
        "outputId": "624581dc-2c7d-4fcd-f446-825e53756eee"
      },
      "outputs": [
        {
          "output_type": "stream",
          "name": "stdout",
          "text": [
            "enter something:test\n",
            "Less than 5\n"
          ]
        }
      ],
      "source": [
        "#if\n",
        "text = input(\"enter something:\")\n",
        "if len(text) <5:\n",
        "  print(\"Less than 5\")\n",
        "elif len(text) >5:\n",
        "  print(\"more than 5\")\n",
        "else:\n",
        "  print(\"exactly 5\")"
      ]
    },
    {
      "cell_type": "code",
      "source": [
        "#factors\n",
        "number = int(input(\"Enter a positive integer:\"))\n",
        "i = 1\n",
        "while(i <= number):\n",
        "  if number % i == 0:\n",
        "    print(i,\"is a divisor of\",number)\n",
        "  i = i + 1"
      ],
      "metadata": {
        "colab": {
          "base_uri": "https://localhost:8080/"
        },
        "id": "zbefDp3vAm29",
        "outputId": "e1346ad7-7003-42ed-ba99-911d21153123"
      },
      "execution_count": null,
      "outputs": [
        {
          "output_type": "stream",
          "name": "stdout",
          "text": [
            "Enter a positive integer:12\n",
            "1 is a divisor of 12\n",
            "2 is a divisor of 12\n",
            "3 is a divisor of 12\n",
            "4 is a divisor of 12\n",
            "6 is a divisor of 12\n",
            "12 is a divisor of 12\n"
          ]
        }
      ]
    },
    {
      "cell_type": "code",
      "source": [
        "#break\n",
        "while True:\n",
        "  text = input(\"Please enter a value:\")\n",
        "  if text == 'q' or text == 'Q':\n",
        "    break"
      ],
      "metadata": {
        "colab": {
          "base_uri": "https://localhost:8080/"
        },
        "id": "957JawDIHEfq",
        "outputId": "63a043ff-e5b2-4378-841a-e036cc27d9e3"
      },
      "execution_count": null,
      "outputs": [
        {
          "name": "stdout",
          "output_type": "stream",
          "text": [
            "Please enter a value:r\n",
            "Please enter a value:y\n",
            "Please enter a value:i\n",
            "Please enter a value:q\n"
          ]
        }
      ]
    },
    {
      "cell_type": "code",
      "source": [
        "#continue\n",
        "for i in range(1,51):\n",
        "  if i % 3 == 0:\n",
        "    continue\n",
        "  else:\n",
        "    print(i)"
      ],
      "metadata": {
        "colab": {
          "base_uri": "https://localhost:8080/"
        },
        "id": "kCCt49nzJSCd",
        "outputId": "aee633ef-104b-422d-a299-228ec38813eb"
      },
      "execution_count": null,
      "outputs": [
        {
          "output_type": "stream",
          "name": "stdout",
          "text": [
            "1\n",
            "2\n",
            "4\n",
            "5\n",
            "7\n",
            "8\n",
            "10\n",
            "11\n",
            "13\n",
            "14\n",
            "16\n",
            "17\n",
            "19\n",
            "20\n",
            "22\n",
            "23\n",
            "25\n",
            "26\n",
            "28\n",
            "29\n",
            "31\n",
            "32\n",
            "34\n",
            "35\n",
            "37\n",
            "38\n",
            "40\n",
            "41\n",
            "43\n",
            "44\n",
            "46\n",
            "47\n",
            "49\n",
            "50\n"
          ]
        }
      ]
    },
    {
      "cell_type": "code",
      "source": [
        "while True:\n",
        "  try:\n",
        "    i = int(input(\"Enter an integer:\"))\n",
        "    if i / 1 == i:\n",
        "      print(i)\n",
        "      break\n",
        "  except ValueError:\n",
        "    print(\"Please enter an integer\")\n",
        "  continue"
      ],
      "metadata": {
        "colab": {
          "base_uri": "https://localhost:8080/"
        },
        "id": "OUhzxIDBKmfF",
        "outputId": "1ea8331d-7ef9-4143-ae83-a947ede67b2c"
      },
      "execution_count": null,
      "outputs": [
        {
          "output_type": "stream",
          "name": "stdout",
          "text": [
            "Enter an integer:l\n",
            "Please enter an integer\n",
            "Enter an integer:i\n",
            "Please enter an integer\n",
            "Enter an integer:u\n",
            "Please enter an integer\n",
            "Enter an integer:7\n",
            "7\n"
          ]
        }
      ]
    },
    {
      "cell_type": "code",
      "source": [
        "from random import randint"
      ],
      "metadata": {
        "id": "E4bRDD0bQMfo"
      },
      "execution_count": 1,
      "outputs": []
    },
    {
      "cell_type": "code",
      "source": [
        "print(randint(0,1))"
      ],
      "metadata": {
        "colab": {
          "base_uri": "https://localhost:8080/"
        },
        "id": "-KR3PnjQQd6J",
        "outputId": "748382e1-386d-4117-ed1e-c79ff73ad5c5"
      },
      "execution_count": null,
      "outputs": [
        {
          "output_type": "stream",
          "name": "stdout",
          "text": [
            "0\n"
          ]
        }
      ]
    },
    {
      "cell_type": "code",
      "source": [
        "heads = 0\n",
        "tails = 0\n",
        "\n",
        "for trials in range(0, 10000):\n",
        "  while randint(0,1) == 0:\n",
        "    tails += 1\n",
        "  heads += 1\n",
        "print(\"Heads / tails =\", heads/tails)\n"
      ],
      "metadata": {
        "colab": {
          "base_uri": "https://localhost:8080/"
        },
        "id": "ZqLPXnvrQmDx",
        "outputId": "975f61e7-9015-4fa4-e350-c7e0e83a10f1"
      },
      "execution_count": null,
      "outputs": [
        {
          "output_type": "stream",
          "name": "stdout",
          "text": [
            "Heads / tails = 0.9978048293753742\n"
          ]
        }
      ]
    },
    {
      "cell_type": "code",
      "source": [
        "print(randint(1,6))"
      ],
      "metadata": {
        "colab": {
          "base_uri": "https://localhost:8080/"
        },
        "id": "jcdTPNIMRYWW",
        "outputId": "f78b9458-474b-4481-b8b3-dd181e28143e"
      },
      "execution_count": null,
      "outputs": [
        {
          "output_type": "stream",
          "name": "stdout",
          "text": [
            "2\n"
          ]
        }
      ]
    },
    {
      "cell_type": "code",
      "source": [
        "total = 0\n",
        "for i in range(0, 10000):\n",
        "  total = total + randint(1,6)\n",
        "print(\"Average is\", total/10000)"
      ],
      "metadata": {
        "colab": {
          "base_uri": "https://localhost:8080/"
        },
        "id": "YuGjP3PfRnrs",
        "outputId": "05b7ec4e-9c09-49a1-8ae5-73b8acf7a6af"
      },
      "execution_count": null,
      "outputs": [
        {
          "output_type": "stream",
          "name": "stdout",
          "text": [
            "Average is 3.5171\n"
          ]
        }
      ]
    },
    {
      "cell_type": "code",
      "source": [
        "from random import random"
      ],
      "metadata": {
        "id": "FqRMxpOkSIXX"
      },
      "execution_count": 2,
      "outputs": []
    },
    {
      "cell_type": "code",
      "source": [
        "#election\n",
        "aWins = 0\n",
        "bWins = 0\n",
        "for i in range(0, 10000):\n",
        "  aWin1 = 0\n",
        "  aWin2 = 0\n",
        "  aWin3 = 0\n",
        "  bWin1 = 0\n",
        "  bWin2 = 0\n",
        "  bWin3 = 0\n",
        "  outcome1 = random()\n",
        "  outcome2 = random()\n",
        "  outcome3 = random()\n",
        "  if outcome1 <= 0.87:\n",
        "    aWin1 += 1\n",
        "  else:\n",
        "    bWin1 += 1\n",
        "  if outcome2 <= 0.65:\n",
        "    aWin2 += 1\n",
        "  else: \n",
        "    bWin2 += 1\n",
        "  if outcome3 <= 0.17:\n",
        "    aWin3 += 1\n",
        "  else:\n",
        "    bWin3 += 1\n",
        "  aTotal = aWin1 + aWin2 + aWin3\n",
        "  bTotal = bWin1 + bWin2 + bWin3\n",
        "  if aTotal > bTotal:\n",
        "    aWins += 1\n",
        "  else: \n",
        "    bWins += 1\n",
        "print(\"Chances of candidate A winning are:\", (aWins/10000)*100)\n",
        "print(\"Chances of candidate B winning are:\", (bWins/10000)*100)"
      ],
      "metadata": {
        "colab": {
          "base_uri": "https://localhost:8080/"
        },
        "id": "uHAwL1tvSBhp",
        "outputId": "ae64b047-a9df-447a-b1ec-d4fbbcaa4273"
      },
      "execution_count": null,
      "outputs": [
        {
          "output_type": "stream",
          "name": "stdout",
          "text": [
            "Chances of candidate A winning are: 62.4\n",
            "Chances of candidate B winning are: 37.6\n"
          ]
        }
      ]
    },
    {
      "cell_type": "code",
      "source": [
        "#cointoss\n",
        "trials = 10000\n",
        "flips = 0\n",
        "firstResult = 0\n",
        "for i in range(0,10000):\n",
        "  firstResult = randint(0,1)\n",
        "  flips += 1\n",
        "  while True:\n",
        "    flips += 1\n",
        "    if randint(0,1) != firstResult:\n",
        "      break\n",
        "print(flips / trials)\n"
      ],
      "metadata": {
        "id": "Dch_okyfVhOD",
        "colab": {
          "base_uri": "https://localhost:8080/"
        },
        "outputId": "2ffbdee3-9a88-41bc-886f-ed64ab54b806"
      },
      "execution_count": 8,
      "outputs": [
        {
          "output_type": "stream",
          "name": "stdout",
          "text": [
            "3.006\n"
          ]
        }
      ]
    },
    {
      "cell_type": "code",
      "source": [
        "flips = 0\n",
        "trials = 10000\n",
        "\n",
        "for trial in range(0, trials):\n",
        "    flips += 1  # first flip\n",
        "    if randint(0, 1) == 0:  # flipped tails on first flip\n",
        "        while randint(0, 1) == 0:  # keep flipping tails\n",
        "            flips += 1\n",
        "        flips += 1  # finally flipped heads\n",
        "    else:  # otherwise, flipped heads on first flip\n",
        "        while randint(0, 1) == 1:  # keep flipping heads\n",
        "            flips += 1\n",
        "        flips += 1  # finally flipped tails\n",
        "\n",
        "print(flips / trials)"
      ],
      "metadata": {
        "colab": {
          "base_uri": "https://localhost:8080/"
        },
        "id": "m8kBwkpLYEs0",
        "outputId": "6fea8cf8-b1bd-4f00-9f3f-f4200c962034"
      },
      "execution_count": 12,
      "outputs": [
        {
          "output_type": "stream",
          "name": "stdout",
          "text": [
            "2.9973\n"
          ]
        }
      ]
    }
  ]
}