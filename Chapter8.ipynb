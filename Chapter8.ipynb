{
  "nbformat": 4,
  "nbformat_minor": 0,
  "metadata": {
    "colab": {
      "provenance": [],
      "authorship_tag": "ABX9TyPBbrOpWYq2u5AfK5V52U5q",
      "include_colab_link": true
    },
    "kernelspec": {
      "name": "python3",
      "display_name": "Python 3"
    },
    "language_info": {
      "name": "python"
    }
  },
  "cells": [
    {
      "cell_type": "markdown",
      "metadata": {
        "id": "view-in-github",
        "colab_type": "text"
      },
      "source": [
        "<a href=\"https://colab.research.google.com/github/Solenluna/RealPythonPractise/blob/main/Chapter8.ipynb\" target=\"_parent\"><img src=\"https://colab.research.google.com/assets/colab-badge.svg\" alt=\"Open In Colab\"/></a>"
      ]
    },
    {
      "cell_type": "code",
      "execution_count": 5,
      "metadata": {
        "colab": {
          "base_uri": "https://localhost:8080/"
        },
        "id": "l5Yv1chu9vK7",
        "outputId": "624581dc-2c7d-4fcd-f446-825e53756eee"
      },
      "outputs": [
        {
          "output_type": "stream",
          "name": "stdout",
          "text": [
            "enter something:test\n",
            "Less than 5\n"
          ]
        }
      ],
      "source": [
        "#if\n",
        "text = input(\"enter something:\")\n",
        "if len(text) <5:\n",
        "  print(\"Less than 5\")\n",
        "elif len(text) >5:\n",
        "  print(\"more than 5\")\n",
        "else:\n",
        "  print(\"exactly 5\")"
      ]
    }
  ]
}