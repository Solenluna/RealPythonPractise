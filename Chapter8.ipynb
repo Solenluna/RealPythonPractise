{
  "nbformat": 4,
  "nbformat_minor": 0,
  "metadata": {
    "colab": {
      "provenance": [],
      "authorship_tag": "ABX9TyM9CxyuK9skFYUWbTsodIO2",
      "include_colab_link": true
    },
    "kernelspec": {
      "name": "python3",
      "display_name": "Python 3"
    },
    "language_info": {
      "name": "python"
    }
  },
  "cells": [
    {
      "cell_type": "markdown",
      "metadata": {
        "id": "view-in-github",
        "colab_type": "text"
      },
      "source": [
        "<a href=\"https://colab.research.google.com/github/Solenluna/RealPythonPractise/blob/main/Chapter8.ipynb\" target=\"_parent\"><img src=\"https://colab.research.google.com/assets/colab-badge.svg\" alt=\"Open In Colab\"/></a>"
      ]
    },
    {
      "cell_type": "code",
      "execution_count": null,
      "metadata": {
        "colab": {
          "base_uri": "https://localhost:8080/"
        },
        "id": "l5Yv1chu9vK7",
        "outputId": "624581dc-2c7d-4fcd-f446-825e53756eee"
      },
      "outputs": [
        {
          "output_type": "stream",
          "name": "stdout",
          "text": [
            "enter something:test\n",
            "Less than 5\n"
          ]
        }
      ],
      "source": [
        "#if\n",
        "text = input(\"enter something:\")\n",
        "if len(text) <5:\n",
        "  print(\"Less than 5\")\n",
        "elif len(text) >5:\n",
        "  print(\"more than 5\")\n",
        "else:\n",
        "  print(\"exactly 5\")"
      ]
    },
    {
      "cell_type": "code",
      "source": [
        "#factors\n",
        "number = int(input(\"Enter a positive integer:\"))\n",
        "i = 1\n",
        "while(i <= number):\n",
        "  if number % i == 0:\n",
        "    print(i,\"is a divisor of\",number)\n",
        "  i = i + 1"
      ],
      "metadata": {
        "colab": {
          "base_uri": "https://localhost:8080/"
        },
        "id": "zbefDp3vAm29",
        "outputId": "e1346ad7-7003-42ed-ba99-911d21153123"
      },
      "execution_count": null,
      "outputs": [
        {
          "output_type": "stream",
          "name": "stdout",
          "text": [
            "Enter a positive integer:12\n",
            "1 is a divisor of 12\n",
            "2 is a divisor of 12\n",
            "3 is a divisor of 12\n",
            "4 is a divisor of 12\n",
            "6 is a divisor of 12\n",
            "12 is a divisor of 12\n"
          ]
        }
      ]
    },
    {
      "cell_type": "code",
      "source": [
        "#break\n",
        "while True:\n",
        "  text = input(\"Please enter a value:\")\n",
        "  if text == 'q' or text == 'Q':\n",
        "    break"
      ],
      "metadata": {
        "colab": {
          "base_uri": "https://localhost:8080/"
        },
        "id": "957JawDIHEfq",
        "outputId": "63a043ff-e5b2-4378-841a-e036cc27d9e3"
      },
      "execution_count": 6,
      "outputs": [
        {
          "name": "stdout",
          "output_type": "stream",
          "text": [
            "Please enter a value:r\n",
            "Please enter a value:y\n",
            "Please enter a value:i\n",
            "Please enter a value:q\n"
          ]
        }
      ]
    },
    {
      "cell_type": "code",
      "source": [
        "#continue\n",
        "for i in range(1,51):\n",
        "  if i % 3 == 0:\n",
        "    continue\n",
        "  else:\n",
        "    print(i)"
      ],
      "metadata": {
        "colab": {
          "base_uri": "https://localhost:8080/"
        },
        "id": "kCCt49nzJSCd",
        "outputId": "aee633ef-104b-422d-a299-228ec38813eb"
      },
      "execution_count": 7,
      "outputs": [
        {
          "output_type": "stream",
          "name": "stdout",
          "text": [
            "1\n",
            "2\n",
            "4\n",
            "5\n",
            "7\n",
            "8\n",
            "10\n",
            "11\n",
            "13\n",
            "14\n",
            "16\n",
            "17\n",
            "19\n",
            "20\n",
            "22\n",
            "23\n",
            "25\n",
            "26\n",
            "28\n",
            "29\n",
            "31\n",
            "32\n",
            "34\n",
            "35\n",
            "37\n",
            "38\n",
            "40\n",
            "41\n",
            "43\n",
            "44\n",
            "46\n",
            "47\n",
            "49\n",
            "50\n"
          ]
        }
      ]
    },
    {
      "cell_type": "code",
      "source": [
        "while True:\n",
        "  try:\n",
        "    i = int(input(\"Enter an integer:\"))\n",
        "    if i / 1 == i:\n",
        "      print(i)\n",
        "      break\n",
        "  except ValueError:\n",
        "    print(\"Please enter an integer\")\n",
        "  continue"
      ],
      "metadata": {
        "colab": {
          "base_uri": "https://localhost:8080/"
        },
        "id": "OUhzxIDBKmfF",
        "outputId": "1ea8331d-7ef9-4143-ae83-a947ede67b2c"
      },
      "execution_count": 19,
      "outputs": [
        {
          "output_type": "stream",
          "name": "stdout",
          "text": [
            "Enter an integer:l\n",
            "Please enter an integer\n",
            "Enter an integer:i\n",
            "Please enter an integer\n",
            "Enter an integer:u\n",
            "Please enter an integer\n",
            "Enter an integer:7\n",
            "7\n"
          ]
        }
      ]
    }
  ]
}