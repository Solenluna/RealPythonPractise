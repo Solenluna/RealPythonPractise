{
  "nbformat": 4,
  "nbformat_minor": 0,
  "metadata": {
    "colab": {
      "provenance": [],
      "authorship_tag": "ABX9TyMXQicd/SUxXwJrfZzl7N9e",
      "include_colab_link": true
    },
    "kernelspec": {
      "name": "python3",
      "display_name": "Python 3"
    },
    "language_info": {
      "name": "python"
    }
  },
  "cells": [
    {
      "cell_type": "markdown",
      "metadata": {
        "id": "view-in-github",
        "colab_type": "text"
      },
      "source": [
        "<a href=\"https://colab.research.google.com/github/Solenluna/RealPythonPractise/blob/main/Chapter9.ipynb\" target=\"_parent\"><img src=\"https://colab.research.google.com/assets/colab-badge.svg\" alt=\"Open In Colab\"/></a>"
      ]
    },
    {
      "cell_type": "code",
      "execution_count": null,
      "metadata": {
        "colab": {
          "base_uri": "https://localhost:8080/"
        },
        "id": "Zfm8Mbr0YqMP",
        "outputId": "947b47b5-290e-4440-b36a-23d7e8ca3560"
      },
      "outputs": [
        {
          "output_type": "stream",
          "name": "stdout",
          "text": [
            "['Cookies', 'Ice cream']\n",
            "1\n"
          ]
        }
      ],
      "source": [
        "desserts = [\"Ice cream\", \"Cookies\"]\n",
        "desserts.sort()\n",
        "print(desserts)\n",
        "print(desserts.index(\"Ice cream\"))"
      ]
    },
    {
      "cell_type": "code",
      "source": [
        "food = []\n",
        "food = desserts[:]\n",
        "print(food)\n",
        "food.extend([\"broccoli\",\"turnips\"])\n",
        "print(food)\n",
        "print(desserts)"
      ],
      "metadata": {
        "colab": {
          "base_uri": "https://localhost:8080/"
        },
        "id": "R7OYPpx8aAma",
        "outputId": "23d7ae96-11f8-4b04-b3a5-54e4f2e154b0"
      },
      "execution_count": null,
      "outputs": [
        {
          "output_type": "stream",
          "name": "stdout",
          "text": [
            "['Cookies', 'Ice cream']\n",
            "['Cookies', 'Ice cream', 'broccoli', 'turnips']\n",
            "['Cookies', 'Ice cream']\n"
          ]
        }
      ]
    },
    {
      "cell_type": "code",
      "source": [
        "food.remove(\"Cookies\")\n",
        "print(food[0:2])"
      ],
      "metadata": {
        "colab": {
          "base_uri": "https://localhost:8080/"
        },
        "id": "uKMDJoX7alX3",
        "outputId": "cd6dd3e8-ea10-4602-fa07-97525f056e1f"
      },
      "execution_count": null,
      "outputs": [
        {
          "output_type": "stream",
          "name": "stdout",
          "text": [
            "['Ice cream', 'broccoli']\n"
          ]
        }
      ]
    },
    {
      "cell_type": "code",
      "source": [
        "cookies = \"cookies, cookies, cookies\"\n",
        "breakfast = cookies.split(\",\")\n",
        "print(breakfast)"
      ],
      "metadata": {
        "colab": {
          "base_uri": "https://localhost:8080/"
        },
        "id": "FoUTk-eYa97V",
        "outputId": "2ca2050a-1348-4c21-925f-16b0ade1d456"
      },
      "execution_count": null,
      "outputs": [
        {
          "output_type": "stream",
          "name": "stdout",
          "text": [
            "['cookies', ' cookies', ' cookies']\n"
          ]
        }
      ]
    },
    {
      "cell_type": "code",
      "source": [
        "def something(stuff):\n",
        "  for i in stuff:\n",
        "    if i <= 20:\n",
        "      print(i)\n",
        "\n",
        "something([2,4,8,16,32,64])"
      ],
      "metadata": {
        "colab": {
          "base_uri": "https://localhost:8080/"
        },
        "id": "i80vPIi5bg_Q",
        "outputId": "3f9c2840-ea28-41e4-f685-de6bce1beb20"
      },
      "execution_count": null,
      "outputs": [
        {
          "output_type": "stream",
          "name": "stdout",
          "text": [
            "2\n",
            "4\n",
            "8\n",
            "16\n"
          ]
        }
      ]
    },
    {
      "cell_type": "code",
      "source": [
        "#enrollment stats\n",
        "totalTuition = []\n",
        "totalStudents = []\n",
        "\n",
        "def enrollment_stats(listOfUniversities):\n",
        "  for university in listOfUniversities:\n",
        "    totalTuition.append(university[2])\n",
        "    totalStudents.append(university[1])\n",
        "\n",
        "  return totalStudents, totalTuition\n",
        "\n",
        "def mean(values):\n",
        "  listResult = 0\n",
        "  for i in values:\n",
        "    listResult += i\n",
        "  return int((listResult/len(values)))\n",
        "\n",
        "def median(medValues):\n",
        "  medValues.sort()\n",
        "  length = len(medValues)\n",
        "  if not length % 2:\n",
        "    return (medValues[int(length/2)] + medValues[int(length / 2 - 1)]) /2\n",
        "  return medValues[int(length / 2)]\n",
        "\n",
        "universities = [\n",
        "    ['California Institute of Technology', 2175, 37704],\n",
        "    ['Harvard', 19627, 39849],\n",
        "    ['Massachusetts Institute of Technology', 10566, 40732],\n",
        "    ['Princeton', 7802, 37000],\n",
        "    ['Rice', 5879, 35551],\n",
        "    ['Stanford', 19535, 40569],\n",
        "    ['Yale', 11701, 40500],\n",
        "  ]\n",
        "\n",
        "enrollment_stats(universities)\n",
        "print(\"Total students:\",sum(totalStudents))\n",
        "print(\"Total tuition: $\",sum(totalTuition))\n",
        "print(\"\")\n",
        "print(\"Student mean:\", mean(totalStudents))\n",
        "print(\"Student median:\", median(totalStudents))\n",
        "print(\"\")\n",
        "print(\"Tuition mean: $\", mean(totalTuition))\n",
        "print(\"Tuition median: $\", median(totalTuition))"
      ],
      "metadata": {
        "colab": {
          "base_uri": "https://localhost:8080/"
        },
        "id": "hq4RG4M7cL0Y",
        "outputId": "3b448ed9-d501-469a-8f2f-b7fde603ad3e"
      },
      "execution_count": 15,
      "outputs": [
        {
          "output_type": "stream",
          "name": "stdout",
          "text": [
            "Total students: 77285\n",
            "Total tuition: $ 271905\n",
            "\n",
            "Student mean: 11040\n",
            "Student median: 10566\n",
            "\n",
            "Tuition mean: $ 38843\n",
            "Tuition median: $ 39849\n"
          ]
        }
      ]
    },
    {
      "cell_type": "code",
      "source": [
        "from random import random"
      ],
      "metadata": {
        "id": "mSho37SyQREI"
      },
      "execution_count": 16,
      "outputs": []
    },
    {
      "cell_type": "code",
      "source": [
        "#poetry\n",
        "nouns = [\"fossil\",\"horse\",\"aardvark\",\"judge\",\"chef\",\"mango\",\"extrovert\",\"gorilla\"]\n",
        "verbs = [\"kicks\",\"jingles\",\"bounces\",\"slurps\",\"meows\",\"explodes\",\"curdles\"]\n",
        "adjectives = [\"furry\",\"balding\",\"incredulous\",\"fragrant\",\"exuberant\",\"glistening\"]\n",
        "prepositions = [\"against\",\"after\",\"into\",\"beneath\",\"upon\",\"for\",\"in\",\"like\",\"over\",\"within\"]\n",
        "adverbs = [\"curiously\",\"extravagantly\",\"tantalizingly\",\"furiously\",\"sensuously\"]\n",
        "\n"
      ],
      "metadata": {
        "id": "LMkjxnTWOeT8"
      },
      "execution_count": null,
      "outputs": []
    }
  ]
}